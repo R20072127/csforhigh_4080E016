{
  "nbformat": 4,
  "nbformat_minor": 0,
  "metadata": {
    "colab": {
      "name": "ChristmasTree.ipynb",
      "version": "0.3.2",
      "provenance": [],
      "collapsed_sections": [],
      "include_colab_link": true
    },
    "kernelspec": {
      "name": "python3",
      "display_name": "Python 3"
    }
  },
  "cells": [
    {
      "cell_type": "markdown",
      "metadata": {
        "id": "view-in-github",
        "colab_type": "text"
      },
      "source": [
        "<a href=\"https://colab.research.google.com/github/cyanid2489563/csforhigh_4080E016/blob/master/ChristmasTree.ipynb\" target=\"_parent\"><img src=\"https://colab.research.google.com/assets/colab-badge.svg\" alt=\"Open In Colab\"/></a>"
      ]
    },
    {
      "cell_type": "code",
      "metadata": {
        "colab_type": "code",
        "outputId": "280e5dee-8c9b-48a0-c50c-26a9dede834e",
        "id": "QLiK6edM9ayJ",
        "colab": {
          "base_uri": "https://localhost:8080/",
          "height": 272
        }
      },
      "source": [
        "for a in range(3):\n",
        "  for i in range(1,5):\n",
        "    for space in range(1,5-i):\n",
        "      print('  ',end='')\n",
        "    for j in range(2*i-1):\n",
        "      print('* ',end='')\n",
        "    print('')\n",
        "for b in range(3):\n",
        "  for c in range(5):\n",
        "    print(' ',end='')\n",
        "  print(\"***\")"
      ],
      "execution_count": 52,
      "outputs": [
        {
          "output_type": "stream",
          "text": [
            "      * \n",
            "    * * * \n",
            "  * * * * * \n",
            "* * * * * * * \n",
            "      * \n",
            "    * * * \n",
            "  * * * * * \n",
            "* * * * * * * \n",
            "      * \n",
            "    * * * \n",
            "  * * * * * \n",
            "* * * * * * * \n",
            "     ***\n",
            "     ***\n",
            "     ***\n"
          ],
          "name": "stdout"
        }
      ]
    }
  ]
}