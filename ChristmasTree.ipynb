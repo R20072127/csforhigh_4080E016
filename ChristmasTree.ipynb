{
  "nbformat": 4,
  "nbformat_minor": 0,
  "metadata": {
    "colab": {
      "name": "Untitled0.ipynb",
      "version": "0.3.2",
      "provenance": [],
      "include_colab_link": true
    },
    "kernelspec": {
      "name": "python3",
      "display_name": "Python 3"
    }
  },
  "cells": [
    {
      "cell_type": "markdown",
      "metadata": {
        "id": "view-in-github",
        "colab_type": "text"
      },
      "source": [
        "<a href=\"https://colab.research.google.com/github/cyanid2489563/csforhigh_4080E016/blob/master/ChristmasTree.ipynb\" target=\"_parent\"><img src=\"https://colab.research.google.com/assets/colab-badge.svg\" alt=\"Open In Colab\"/></a>"
      ]
    },
    {
      "cell_type": "code",
      "metadata": {
        "colab_type": "code",
        "outputId": "66c280a8-56f7-465e-870c-935eedb1d575",
        "id": "QLiK6edM9ayJ",
        "colab": {
          "base_uri": "https://localhost:8080/",
          "height": 493
        }
      },
      "source": [
        "for a in range(3):\n",
        "  for i in range(1,5):\n",
        "    for space in range(1,5-i):\n",
        "      print('  ',end='')\n",
        "    for j in range(2*i-1):\n",
        "      print('* ',end='')\n",
        "    print('\\n')\n",
        "for b in range(1,5):\n",
        "  for c in range(5):\n",
        "    print(' ',end='')\n",
        "  print(\"**\")"
      ],
      "execution_count": 0,
      "outputs": [
        {
          "output_type": "stream",
          "text": [
            "      * \n",
            "\n",
            "    * * * \n",
            "\n",
            "  * * * * * \n",
            "\n",
            "* * * * * * * \n",
            "\n",
            "      * \n",
            "\n",
            "    * * * \n",
            "\n",
            "  * * * * * \n",
            "\n",
            "* * * * * * * \n",
            "\n",
            "      * \n",
            "\n",
            "    * * * \n",
            "\n",
            "  * * * * * \n",
            "\n",
            "* * * * * * * \n",
            "\n",
            "     **\n",
            "     **\n",
            "     **\n",
            "     **\n"
          ],
          "name": "stdout"
        }
      ]
    }
  ]
}